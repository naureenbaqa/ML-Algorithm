{
 "cells": [
  {
   "cell_type": "markdown",
   "metadata": {},
   "source": [
    "# Importing the dataset"
   ]
  },
  {
   "cell_type": "code",
   "execution_count": 1,
   "metadata": {},
   "outputs": [
    {
     "data": {
      "text/html": [
       "<div>\n",
       "<style scoped>\n",
       "    .dataframe tbody tr th:only-of-type {\n",
       "        vertical-align: middle;\n",
       "    }\n",
       "\n",
       "    .dataframe tbody tr th {\n",
       "        vertical-align: top;\n",
       "    }\n",
       "\n",
       "    .dataframe thead th {\n",
       "        text-align: right;\n",
       "    }\n",
       "</style>\n",
       "<table border=\"1\" class=\"dataframe\">\n",
       "  <thead>\n",
       "    <tr style=\"text-align: right;\">\n",
       "      <th></th>\n",
       "      <th>price in crore</th>\n",
       "      <th>type</th>\n",
       "      <th>location</th>\n",
       "      <th>District</th>\n",
       "      <th>bathroom</th>\n",
       "      <th>bedroom</th>\n",
       "      <th>area</th>\n",
       "      <th>latitude</th>\n",
       "      <th>longitude</th>\n",
       "    </tr>\n",
       "  </thead>\n",
       "  <tbody>\n",
       "    <tr>\n",
       "      <td>0</td>\n",
       "      <td>0.2500</td>\n",
       "      <td>Flat</td>\n",
       "      <td>Bahria Town Karachi</td>\n",
       "      <td>Malir</td>\n",
       "      <td>2</td>\n",
       "      <td>2</td>\n",
       "      <td>4.9</td>\n",
       "      <td>25.021452</td>\n",
       "      <td>67.303431</td>\n",
       "    </tr>\n",
       "    <tr>\n",
       "      <td>1</td>\n",
       "      <td>0.9720</td>\n",
       "      <td>Flat</td>\n",
       "      <td>Bahria Town Karachi</td>\n",
       "      <td>Malir</td>\n",
       "      <td>4</td>\n",
       "      <td>4</td>\n",
       "      <td>5.4</td>\n",
       "      <td>25.021452</td>\n",
       "      <td>67.303431</td>\n",
       "    </tr>\n",
       "    <tr>\n",
       "      <td>2</td>\n",
       "      <td>0.7420</td>\n",
       "      <td>Flat</td>\n",
       "      <td>Bahria Town Karachi</td>\n",
       "      <td>Malir</td>\n",
       "      <td>3</td>\n",
       "      <td>3</td>\n",
       "      <td>4.2</td>\n",
       "      <td>25.021452</td>\n",
       "      <td>67.303431</td>\n",
       "    </tr>\n",
       "    <tr>\n",
       "      <td>3</td>\n",
       "      <td>0.4464</td>\n",
       "      <td>Flat</td>\n",
       "      <td>Bahria Town Karachi</td>\n",
       "      <td>Malir</td>\n",
       "      <td>2</td>\n",
       "      <td>2</td>\n",
       "      <td>2.5</td>\n",
       "      <td>25.021452</td>\n",
       "      <td>67.303431</td>\n",
       "    </tr>\n",
       "    <tr>\n",
       "      <td>4</td>\n",
       "      <td>4.1000</td>\n",
       "      <td>House</td>\n",
       "      <td>DHA Defence</td>\n",
       "      <td>South</td>\n",
       "      <td>4</td>\n",
       "      <td>3</td>\n",
       "      <td>4.0</td>\n",
       "      <td>24.798393</td>\n",
       "      <td>67.032767</td>\n",
       "    </tr>\n",
       "  </tbody>\n",
       "</table>\n",
       "</div>"
      ],
      "text/plain": [
       "   price in crore   type             location District  bathroom  bedroom  \\\n",
       "0          0.2500   Flat  Bahria Town Karachi    Malir         2        2   \n",
       "1          0.9720   Flat  Bahria Town Karachi    Malir         4        4   \n",
       "2          0.7420   Flat  Bahria Town Karachi    Malir         3        3   \n",
       "3          0.4464   Flat  Bahria Town Karachi    Malir         2        2   \n",
       "4          4.1000  House          DHA Defence    South         4        3   \n",
       "\n",
       "   area   latitude  longitude  \n",
       "0   4.9  25.021452  67.303431  \n",
       "1   5.4  25.021452  67.303431  \n",
       "2   4.2  25.021452  67.303431  \n",
       "3   2.5  25.021452  67.303431  \n",
       "4   4.0  24.798393  67.032767  "
      ]
     },
     "execution_count": 1,
     "metadata": {},
     "output_type": "execute_result"
    }
   ],
   "source": [
    "import numpy as np\n",
    "import pandas as pd\n",
    "#Take price in Crore and area in marla\n",
    "df = pd.read_csv('final data mid (1) (3).csv')\n",
    "df.head() "
   ]
  },
  {
   "cell_type": "code",
   "execution_count": 18,
   "metadata": {},
   "outputs": [
    {
     "data": {
      "text/html": [
       "<div>\n",
       "<style scoped>\n",
       "    .dataframe tbody tr th:only-of-type {\n",
       "        vertical-align: middle;\n",
       "    }\n",
       "\n",
       "    .dataframe tbody tr th {\n",
       "        vertical-align: top;\n",
       "    }\n",
       "\n",
       "    .dataframe thead th {\n",
       "        text-align: right;\n",
       "    }\n",
       "</style>\n",
       "<table border=\"1\" class=\"dataframe\">\n",
       "  <thead>\n",
       "    <tr style=\"text-align: right;\">\n",
       "      <th></th>\n",
       "      <th>price in crore</th>\n",
       "      <th>bathroom</th>\n",
       "      <th>bedroom</th>\n",
       "      <th>area</th>\n",
       "      <th>latitude</th>\n",
       "      <th>longitude</th>\n",
       "      <th>Farm House</th>\n",
       "      <th>Flat</th>\n",
       "      <th>House</th>\n",
       "      <th>Lower Portion</th>\n",
       "      <th>Penthouse</th>\n",
       "      <th>Upper Portion</th>\n",
       "    </tr>\n",
       "  </thead>\n",
       "  <tbody>\n",
       "    <tr>\n",
       "      <td>0</td>\n",
       "      <td>0.2500</td>\n",
       "      <td>2</td>\n",
       "      <td>2</td>\n",
       "      <td>4.900000</td>\n",
       "      <td>25.021452</td>\n",
       "      <td>67.303431</td>\n",
       "      <td>0</td>\n",
       "      <td>1</td>\n",
       "      <td>0</td>\n",
       "      <td>0</td>\n",
       "      <td>0</td>\n",
       "      <td>0</td>\n",
       "    </tr>\n",
       "    <tr>\n",
       "      <td>1</td>\n",
       "      <td>0.9720</td>\n",
       "      <td>4</td>\n",
       "      <td>4</td>\n",
       "      <td>5.400000</td>\n",
       "      <td>25.021452</td>\n",
       "      <td>67.303431</td>\n",
       "      <td>0</td>\n",
       "      <td>1</td>\n",
       "      <td>0</td>\n",
       "      <td>0</td>\n",
       "      <td>0</td>\n",
       "      <td>0</td>\n",
       "    </tr>\n",
       "    <tr>\n",
       "      <td>2</td>\n",
       "      <td>0.7420</td>\n",
       "      <td>3</td>\n",
       "      <td>3</td>\n",
       "      <td>4.200000</td>\n",
       "      <td>25.021452</td>\n",
       "      <td>67.303431</td>\n",
       "      <td>0</td>\n",
       "      <td>1</td>\n",
       "      <td>0</td>\n",
       "      <td>0</td>\n",
       "      <td>0</td>\n",
       "      <td>0</td>\n",
       "    </tr>\n",
       "    <tr>\n",
       "      <td>3</td>\n",
       "      <td>0.4464</td>\n",
       "      <td>2</td>\n",
       "      <td>2</td>\n",
       "      <td>2.500000</td>\n",
       "      <td>25.021452</td>\n",
       "      <td>67.303431</td>\n",
       "      <td>0</td>\n",
       "      <td>1</td>\n",
       "      <td>0</td>\n",
       "      <td>0</td>\n",
       "      <td>0</td>\n",
       "      <td>0</td>\n",
       "    </tr>\n",
       "    <tr>\n",
       "      <td>4</td>\n",
       "      <td>4.1000</td>\n",
       "      <td>4</td>\n",
       "      <td>3</td>\n",
       "      <td>4.000000</td>\n",
       "      <td>24.798393</td>\n",
       "      <td>67.032767</td>\n",
       "      <td>0</td>\n",
       "      <td>0</td>\n",
       "      <td>1</td>\n",
       "      <td>0</td>\n",
       "      <td>0</td>\n",
       "      <td>0</td>\n",
       "    </tr>\n",
       "    <tr>\n",
       "      <td>...</td>\n",
       "      <td>...</td>\n",
       "      <td>...</td>\n",
       "      <td>...</td>\n",
       "      <td>...</td>\n",
       "      <td>...</td>\n",
       "      <td>...</td>\n",
       "      <td>...</td>\n",
       "      <td>...</td>\n",
       "      <td>...</td>\n",
       "      <td>...</td>\n",
       "      <td>...</td>\n",
       "      <td>...</td>\n",
       "    </tr>\n",
       "    <tr>\n",
       "      <td>23411</td>\n",
       "      <td>1.9900</td>\n",
       "      <td>3</td>\n",
       "      <td>3</td>\n",
       "      <td>7.933872</td>\n",
       "      <td>25.092281</td>\n",
       "      <td>66.961481</td>\n",
       "      <td>0</td>\n",
       "      <td>0</td>\n",
       "      <td>1</td>\n",
       "      <td>0</td>\n",
       "      <td>0</td>\n",
       "      <td>0</td>\n",
       "    </tr>\n",
       "    <tr>\n",
       "      <td>23412</td>\n",
       "      <td>70.0000</td>\n",
       "      <td>3</td>\n",
       "      <td>3</td>\n",
       "      <td>4.958670</td>\n",
       "      <td>24.927473</td>\n",
       "      <td>67.064127</td>\n",
       "      <td>0</td>\n",
       "      <td>1</td>\n",
       "      <td>0</td>\n",
       "      <td>0</td>\n",
       "      <td>0</td>\n",
       "      <td>0</td>\n",
       "    </tr>\n",
       "    <tr>\n",
       "      <td>23413</td>\n",
       "      <td>3.8000</td>\n",
       "      <td>4</td>\n",
       "      <td>4</td>\n",
       "      <td>10.942132</td>\n",
       "      <td>24.855068</td>\n",
       "      <td>67.049931</td>\n",
       "      <td>0</td>\n",
       "      <td>1</td>\n",
       "      <td>0</td>\n",
       "      <td>0</td>\n",
       "      <td>0</td>\n",
       "      <td>0</td>\n",
       "    </tr>\n",
       "    <tr>\n",
       "      <td>23414</td>\n",
       "      <td>3.0600</td>\n",
       "      <td>3</td>\n",
       "      <td>3</td>\n",
       "      <td>9.454531</td>\n",
       "      <td>24.855068</td>\n",
       "      <td>67.049931</td>\n",
       "      <td>0</td>\n",
       "      <td>1</td>\n",
       "      <td>0</td>\n",
       "      <td>0</td>\n",
       "      <td>0</td>\n",
       "      <td>0</td>\n",
       "    </tr>\n",
       "    <tr>\n",
       "      <td>23415</td>\n",
       "      <td>2.7000</td>\n",
       "      <td>3</td>\n",
       "      <td>3</td>\n",
       "      <td>9.454531</td>\n",
       "      <td>24.855068</td>\n",
       "      <td>67.049931</td>\n",
       "      <td>0</td>\n",
       "      <td>1</td>\n",
       "      <td>0</td>\n",
       "      <td>0</td>\n",
       "      <td>0</td>\n",
       "      <td>0</td>\n",
       "    </tr>\n",
       "  </tbody>\n",
       "</table>\n",
       "<p>23416 rows × 12 columns</p>\n",
       "</div>"
      ],
      "text/plain": [
       "       price in crore  bathroom  bedroom       area   latitude  longitude  \\\n",
       "0              0.2500         2        2   4.900000  25.021452  67.303431   \n",
       "1              0.9720         4        4   5.400000  25.021452  67.303431   \n",
       "2              0.7420         3        3   4.200000  25.021452  67.303431   \n",
       "3              0.4464         2        2   2.500000  25.021452  67.303431   \n",
       "4              4.1000         4        3   4.000000  24.798393  67.032767   \n",
       "...               ...       ...      ...        ...        ...        ...   \n",
       "23411          1.9900         3        3   7.933872  25.092281  66.961481   \n",
       "23412         70.0000         3        3   4.958670  24.927473  67.064127   \n",
       "23413          3.8000         4        4  10.942132  24.855068  67.049931   \n",
       "23414          3.0600         3        3   9.454531  24.855068  67.049931   \n",
       "23415          2.7000         3        3   9.454531  24.855068  67.049931   \n",
       "\n",
       "       Farm House  Flat  House  Lower Portion  Penthouse  Upper Portion  \n",
       "0               0     1      0              0          0              0  \n",
       "1               0     1      0              0          0              0  \n",
       "2               0     1      0              0          0              0  \n",
       "3               0     1      0              0          0              0  \n",
       "4               0     0      1              0          0              0  \n",
       "...           ...   ...    ...            ...        ...            ...  \n",
       "23411           0     0      1              0          0              0  \n",
       "23412           0     1      0              0          0              0  \n",
       "23413           0     1      0              0          0              0  \n",
       "23414           0     1      0              0          0              0  \n",
       "23415           0     1      0              0          0              0  \n",
       "\n",
       "[23416 rows x 12 columns]"
      ]
     },
     "execution_count": 18,
     "metadata": {},
     "output_type": "execute_result"
    }
   ],
   "source": [
    "dummy_1 =pd.get_dummies(df.type)\n",
    "merge = pd.concat([df,dummy_1],axis='columns')\n",
    "final = merge.drop(['location','type','District'],axis='columns')\n",
    "final"
   ]
  },
  {
   "cell_type": "markdown",
   "metadata": {},
   "source": [
    "# dependent and Independent Variables"
   ]
  },
  {
   "cell_type": "code",
   "execution_count": 19,
   "metadata": {},
   "outputs": [],
   "source": [
    "X = final.iloc[:, 1:].values \n",
    " \n",
    "Y = final.iloc[:, 0].values"
   ]
  },
  {
   "cell_type": "code",
   "execution_count": 20,
   "metadata": {},
   "outputs": [
    {
     "name": "stdout",
     "output_type": "stream",
     "text": [
      "Requirement already satisfied: xgboost in c:\\users\\dell\\anaconda3\\lib\\site-packages (1.4.2)\n",
      "Requirement already satisfied: scipy in c:\\users\\dell\\anaconda3\\lib\\site-packages (from xgboost) (1.3.1)\n",
      "Requirement already satisfied: numpy in c:\\users\\dell\\anaconda3\\lib\\site-packages (from xgboost) (1.16.5)\n",
      "Note: you may need to restart the kernel to use updated packages.\n"
     ]
    },
    {
     "name": "stderr",
     "output_type": "stream",
     "text": [
      "WARNING: You are using pip version 21.0.1; however, version 21.2.2 is available.\n",
      "You should consider upgrading via the 'C:\\Users\\DELL\\Anaconda3\\python.exe -m pip install --upgrade pip' command.\n"
     ]
    }
   ],
   "source": [
    "pip install xgboost"
   ]
  },
  {
   "cell_type": "markdown",
   "metadata": {},
   "source": [
    "# Splitting the data set into test and training set"
   ]
  },
  {
   "cell_type": "code",
   "execution_count": 21,
   "metadata": {},
   "outputs": [],
   "source": [
    "from sklearn.model_selection import train_test_split"
   ]
  },
  {
   "cell_type": "code",
   "execution_count": 22,
   "metadata": {},
   "outputs": [],
   "source": [
    "X_train, X_test, y_train, y_test = train_test_split(X, Y, test_size = 0.2, random_state = 0)"
   ]
  },
  {
   "cell_type": "markdown",
   "metadata": {},
   "source": [
    "# Creating and initialising  XGBoost Regressor"
   ]
  },
  {
   "cell_type": "code",
   "execution_count": 23,
   "metadata": {},
   "outputs": [],
   "source": [
    "from xgboost import XGBRegressor"
   ]
  },
  {
   "cell_type": "code",
   "execution_count": 24,
   "metadata": {},
   "outputs": [],
   "source": [
    "regressor  = XGBRegressor()"
   ]
  },
  {
   "cell_type": "markdown",
   "metadata": {},
   "source": [
    "# Fitting the regressor with data"
   ]
  },
  {
   "cell_type": "code",
   "execution_count": 25,
   "metadata": {},
   "outputs": [
    {
     "data": {
      "text/plain": [
       "XGBRegressor(base_score=0.5, booster='gbtree', colsample_bylevel=1,\n",
       "             colsample_bynode=1, colsample_bytree=1, gamma=0, gpu_id=-1,\n",
       "             importance_type='gain', interaction_constraints='',\n",
       "             learning_rate=0.300000012, max_delta_step=0, max_depth=6,\n",
       "             min_child_weight=1, missing=nan, monotone_constraints='()',\n",
       "             n_estimators=100, n_jobs=4, num_parallel_tree=1, random_state=0,\n",
       "             reg_alpha=0, reg_lambda=1, scale_pos_weight=1, subsample=1,\n",
       "             tree_method='exact', validate_parameters=1, verbosity=None)"
      ]
     },
     "execution_count": 25,
     "metadata": {},
     "output_type": "execute_result"
    }
   ],
   "source": [
    "regressor.fit(X_train, y_train)"
   ]
  },
  {
   "cell_type": "markdown",
   "metadata": {},
   "source": [
    "# Predicting the prices"
   ]
  },
  {
   "cell_type": "code",
   "execution_count": 26,
   "metadata": {},
   "outputs": [
    {
     "data": {
      "text/plain": [
       "array([ 2.6660206,  6.371993 ,  0.3524931, ...,  3.3464518, 11.380765 ,\n",
       "        1.6530726], dtype=float32)"
      ]
     },
     "execution_count": 26,
     "metadata": {},
     "output_type": "execute_result"
    }
   ],
   "source": [
    "#Predicting for training set:\n",
    "Y_pred_train = regressor.predict(X_train)\n",
    "Y_pred_train"
   ]
  },
  {
   "cell_type": "code",
   "execution_count": 27,
   "metadata": {},
   "outputs": [],
   "source": [
    "#Predicting for test set:\n",
    "y_pred = regressor.predict(X_test)"
   ]
  },
  {
   "cell_type": "code",
   "execution_count": 28,
   "metadata": {},
   "outputs": [
    {
     "data": {
      "text/plain": [
       "array([ 1.45,  6.4 ,  0.35, ...,  6.  , 16.  ,  1.15])"
      ]
     },
     "execution_count": 28,
     "metadata": {},
     "output_type": "execute_result"
    }
   ],
   "source": [
    "y_train"
   ]
  },
  {
   "cell_type": "markdown",
   "metadata": {},
   "source": [
    "# Evaluating accuracy with RMSLE"
   ]
  },
  {
   "cell_type": "code",
   "execution_count": 29,
   "metadata": {},
   "outputs": [],
   "source": [
    "#This metric measures the ratio between actual values and predicted values and takes the log of the predictions and actual values.\n",
    "#Use this instead of RMSE if an under-prediction is worse than an over-prediction"
   ]
  },
  {
   "cell_type": "code",
   "execution_count": 30,
   "metadata": {},
   "outputs": [],
   "source": [
    "def rmsle(y_pred,y_test) :\n",
    "    error = np.square(np.log10(y_pred +1) - np.log10(y_test +1)).mean() ** 0.5\n",
    "    Acc = 1 - error\n",
    "    return Acc"
   ]
  },
  {
   "cell_type": "code",
   "execution_count": 31,
   "metadata": {},
   "outputs": [
    {
     "name": "stdout",
     "output_type": "stream",
     "text": [
      "Accuracy attained on Training Set =  0.9445666949351462\n"
     ]
    }
   ],
   "source": [
    "print(\"Accuracy attained on Training Set = \",rmsle(Y_pred_train, y_train))"
   ]
  },
  {
   "cell_type": "code",
   "execution_count": 32,
   "metadata": {},
   "outputs": [
    {
     "name": "stdout",
     "output_type": "stream",
     "text": [
      "Accuracy attained on Test Set =  0.9228642885499854\n"
     ]
    }
   ],
   "source": [
    "print(\"Accuracy attained on Test Set = \",rmsle(y_pred,y_test))"
   ]
  },
  {
   "cell_type": "code",
   "execution_count": 33,
   "metadata": {},
   "outputs": [
    {
     "data": {
      "text/plain": [
       "0.8163784372863357"
      ]
     },
     "execution_count": 33,
     "metadata": {},
     "output_type": "execute_result"
    }
   ],
   "source": [
    "\n",
    "from sklearn.metrics import r2_score\n",
    "r2_score(y_test,y_pred)"
   ]
  },
  {
   "cell_type": "code",
   "execution_count": null,
   "metadata": {},
   "outputs": [],
   "source": []
  },
  {
   "cell_type": "code",
   "execution_count": null,
   "metadata": {},
   "outputs": [],
   "source": []
  }
 ],
 "metadata": {
  "kernelspec": {
   "display_name": "Python 3",
   "language": "python",
   "name": "python3"
  },
  "language_info": {
   "codemirror_mode": {
    "name": "ipython",
    "version": 3
   },
   "file_extension": ".py",
   "mimetype": "text/x-python",
   "name": "python",
   "nbconvert_exporter": "python",
   "pygments_lexer": "ipython3",
   "version": "3.7.4"
  }
 },
 "nbformat": 4,
 "nbformat_minor": 2
}
